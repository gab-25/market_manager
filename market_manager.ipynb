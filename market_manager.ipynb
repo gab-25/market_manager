{
 "cells": [
  {
   "cell_type": "code",
   "execution_count": 1,
   "id": "881a8fa5-69c1-4020-9f44-773b0c1ce3f2",
   "metadata": {},
   "outputs": [],
   "source": [
    "from market_manager import core"
   ]
  },
  {
   "cell_type": "code",
   "execution_count": 8,
   "id": "9ecafda8-24ae-4c94-85b8-118ae7f144c7",
   "metadata": {},
   "outputs": [
    {
     "name": "stdin",
     "output_type": "stream",
     "text": [
      "Inserisci un comando:  aiuto\n"
     ]
    },
    {
     "name": "stdout",
     "output_type": "stream",
     "text": [
      "I comandi disponibili sono i seguenti:\n",
      "- aggiungi: aggiungi un prodotto al magazzino\n",
      "- elenca: elenca i prodotto in magazzino\n",
      "- vendita: registra una vendita effettuata\n",
      "- profitti: mostra i profitti totali\n",
      "- aiuto: mostra i possibili comandi\n",
      "- chiudi: esci dal programma\n",
      "\n"
     ]
    }
   ],
   "source": [
    "core.main()"
   ]
  },
  {
   "cell_type": "code",
   "execution_count": 6,
   "id": "a26df9ec-0eba-467d-9810-9d1ce9e42b16",
   "metadata": {},
   "outputs": [
    {
     "name": "stdin",
     "output_type": "stream",
     "text": [
      "Inserisci un comando:  aggiungi\n",
      "Nome del prodotto:  latte di soia\n",
      "Quantità:  20\n",
      "Prezzo di acquisto:  0.80\n",
      "Prezzo di vendita:  1.40\n"
     ]
    },
    {
     "name": "stdout",
     "output_type": "stream",
     "text": [
      "AGGIUNTO: 20 X latte di soia\n",
      "\n"
     ]
    }
   ],
   "source": [
    "core.main()"
   ]
  },
  {
   "cell_type": "code",
   "execution_count": 10,
   "id": "22549073-abd0-4176-882a-ac65e7397b75",
   "metadata": {},
   "outputs": [
    {
     "name": "stdin",
     "output_type": "stream",
     "text": [
      "Inserisci un comando:  aggiungi\n",
      "Nome del prodotto:  tofu\n",
      "Quantità:  10\n",
      "Prezzo di acquisto:  2.20\n",
      "Prezzo di vendita:  4.19\n"
     ]
    },
    {
     "name": "stdout",
     "output_type": "stream",
     "text": [
      "AGGIUNTO: 10 X tofu\n",
      "\n"
     ]
    }
   ],
   "source": [
    "core.main()"
   ]
  },
  {
   "cell_type": "code",
   "execution_count": 14,
   "id": "38dd6bfc-1a1d-477c-9bf4-634b7e82441c",
   "metadata": {},
   "outputs": [
    {
     "name": "stdin",
     "output_type": "stream",
     "text": [
      "Inserisci un comando:  aggiungi\n",
      "Nome del prodotto:  seitan\n",
      "Quantità:  5\n",
      "Prezzo di acquisto:  3\n",
      "Prezzo di vendita:  5.49\n"
     ]
    },
    {
     "name": "stdout",
     "output_type": "stream",
     "text": [
      "AGGIUNTO: 5 X seitan\n",
      "\n"
     ]
    }
   ],
   "source": [
    "core.main()"
   ]
  },
  {
   "cell_type": "code",
   "execution_count": 16,
   "id": "1759b63a-7637-4a4e-81b2-4a0fb163427d",
   "metadata": {},
   "outputs": [
    {
     "name": "stdin",
     "output_type": "stream",
     "text": [
      "Inserisci un comando:  elenca\n"
     ]
    },
    {
     "name": "stdout",
     "output_type": "stream",
     "text": [
      "Prodotti in magazzino:\n",
      "PRODOTTO       QUANTITA    PREZZO\n",
      "latte di soia  20          €1.4\n",
      "tofu           10          €4.19\n",
      "seitan         5           €5.49\n",
      "\n"
     ]
    }
   ],
   "source": [
    "core.main()"
   ]
  },
  {
   "cell_type": "code",
   "execution_count": 3,
   "id": "192da880-38cc-4ceb-bf76-a7a78c80955e",
   "metadata": {},
   "outputs": [
    {
     "name": "stdin",
     "output_type": "stream",
     "text": [
      "Inserisci un comando:  vendita\n",
      "Nome del prodotto:  latte di soia\n",
      "Quantità:  5\n",
      "Aggiungere un altro prodotto? (si/no)  si\n",
      "Nome del prodotto:  tofu\n",
      "Quantità:  2\n",
      "Aggiungere un altro prodotto? (si/no)  no\n"
     ]
    },
    {
     "name": "stdout",
     "output_type": "stream",
     "text": [
      "VENDITA REGISTRATA\n",
      "- 5 X latte di soia: €1.40\n",
      "- 2 X tofu: €4.19\n",
      "Totale: €15.38\n",
      "\n"
     ]
    }
   ],
   "source": [
    "core.main()"
   ]
  },
  {
   "cell_type": "code",
   "execution_count": 5,
   "id": "39e5ef20-7e70-495e-a372-f42510cf6df8",
   "metadata": {},
   "outputs": [
    {
     "name": "stdin",
     "output_type": "stream",
     "text": [
      "Inserisci un comando:  elenca\n"
     ]
    },
    {
     "name": "stdout",
     "output_type": "stream",
     "text": [
      "Prodotti in magazzino:\n",
      "PRODOTTO       QUANTITA    PREZZO\n",
      "latte di soia  15          €1.4\n",
      "tofu           8           €4.19\n",
      "seitan         5           €5.49\n",
      "\n"
     ]
    }
   ],
   "source": [
    "core.main()"
   ]
  },
  {
   "cell_type": "code",
   "execution_count": 7,
   "id": "2f5c6a9b-d6ba-4697-b396-9fead79fea0f",
   "metadata": {},
   "outputs": [
    {
     "name": "stdin",
     "output_type": "stream",
     "text": [
      "Inserisci un comando:  vendita\n",
      "Nome del prodotto:  seitan\n",
      "Quantità:  5\n",
      "Aggiungere un altro prodotto? (si/no)  no\n"
     ]
    },
    {
     "name": "stdout",
     "output_type": "stream",
     "text": [
      "VENDITA REGISTRATA\n",
      "- 5 X seitan: €5.49\n",
      "Totale: €27.45\n",
      "\n"
     ]
    }
   ],
   "source": [
    "core.main()"
   ]
  },
  {
   "cell_type": "code",
   "execution_count": 9,
   "id": "fcd76e53-9d43-43c5-95a6-cb972985ed02",
   "metadata": {},
   "outputs": [
    {
     "name": "stdin",
     "output_type": "stream",
     "text": [
      "Inserisci un comando:  elenca\n"
     ]
    },
    {
     "name": "stdout",
     "output_type": "stream",
     "text": [
      "Prodotti in magazzino:\n",
      "PRODOTTO       QUANTITA    PREZZO\n",
      "latte di soia  15          €1.4\n",
      "tofu           8           €4.19\n",
      "\n"
     ]
    }
   ],
   "source": [
    "core.main()"
   ]
  },
  {
   "cell_type": "code",
   "execution_count": 11,
   "id": "9d2854b8-ecd4-4541-885d-77150bc77133",
   "metadata": {},
   "outputs": [
    {
     "name": "stdin",
     "output_type": "stream",
     "text": [
      "Inserisci un comando:  profitti\n"
     ]
    },
    {
     "name": "stdout",
     "output_type": "stream",
     "text": [
      "Profitto: lordo=€42.83 netto=€19.43\n",
      "\n"
     ]
    }
   ],
   "source": [
    "core.main()"
   ]
  },
  {
   "cell_type": "code",
   "execution_count": 13,
   "id": "82e44d4d-7dc6-488a-8a31-75d67ac2fb27",
   "metadata": {},
   "outputs": [
    {
     "name": "stdin",
     "output_type": "stream",
     "text": [
      "Inserisci un comando:  storna\n"
     ]
    },
    {
     "name": "stdout",
     "output_type": "stream",
     "text": [
      "Errore: comando non valido!\n",
      "I comandi disponibili sono i seguenti:\n",
      "- aggiungi: aggiungi un prodotto al magazzino\n",
      "- elenca: elenca i prodotto in magazzino\n",
      "- vendita: registra una vendita effettuata\n",
      "- profitti: mostra i profitti totali\n",
      "- aiuto: mostra i possibili comandi\n",
      "- chiudi: esci dal programma\n",
      "\n"
     ]
    }
   ],
   "source": [
    "core.main()"
   ]
  },
  {
   "cell_type": "code",
   "execution_count": 15,
   "id": "cca63c62-2d72-41e5-9559-287bab67e9fd",
   "metadata": {},
   "outputs": [
    {
     "name": "stdin",
     "output_type": "stream",
     "text": [
      "Inserisci un comando:  chiudi\n"
     ]
    },
    {
     "name": "stdout",
     "output_type": "stream",
     "text": [
      "Bye bye!\n",
      "\n"
     ]
    }
   ],
   "source": [
    "core.main()"
   ]
  }
 ],
 "metadata": {
  "kernelspec": {
   "display_name": "Python 3 (ipykernel)",
   "language": "python",
   "name": "python3"
  },
  "language_info": {
   "codemirror_mode": {
    "name": "ipython",
    "version": 3
   },
   "file_extension": ".py",
   "mimetype": "text/x-python",
   "name": "python",
   "nbconvert_exporter": "python",
   "pygments_lexer": "ipython3",
   "version": "3.11.7"
  }
 },
 "nbformat": 4,
 "nbformat_minor": 5
}
